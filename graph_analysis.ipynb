{
 "cells": [
  {
   "cell_type": "code",
   "execution_count": null,
   "metadata": {},
   "outputs": [],
   "source": [
    "import networkx as nx\n",
    "import matplotlib.pyplot as plt\n",
    "import json\n",
    "import pickle\n",
    "\n",
    "## load the IATA data\n",
    "with open('data/IATA.json') as f:\n",
    "    IATA = json.load(f)\n",
    "    \n",
    "## load the graph network\n",
    "with open('data/graphnetwork.gpickle', 'rb') as f:\n",
    "    G = pickle.load(f)\n",
    "    \n",
    "with open('data/continent_to_reviews.pkl', 'rb') as f:\n",
    "    continent_to_reviews = pickle.load(f)"
   ]
  },
  {
   "cell_type": "code",
   "execution_count": null,
   "metadata": {},
   "outputs": [],
   "source": [
    "## Find degree distribution \n",
    "degrees = [v for k, v in G.degree()]\n",
    "plt.hist(degrees, bins=100)\n",
    "plt.axvline(sum(degrees) / len(degrees), color='red', linestyle='dashed', linewidth=1)\n",
    "plt.xlabel('Degree')\n",
    "plt.ylabel('Frequency')\n",
    "plt.title('Degree Distribution')\n",
    "print(\"Average degree: \", sum(degrees) / len(degrees))"
   ]
  },
  {
   "cell_type": "code",
   "execution_count": null,
   "metadata": {},
   "outputs": [],
   "source": [
    "## Centrality Measures\n",
    "closeness_centrality = nx.closeness_centrality(G)\n",
    "print(\"Done calculating closeness centrality\")\n",
    "sorted_closeness_centrality = sorted(closeness_centrality.items(), key=lambda x: x[1], reverse=True)\n",
    "top_5_closeness = sorted_closeness_centrality[:5]\n",
    "#find airport names from IATA code\n",
    "for node, closeness in top_5_closeness:\n",
    "    print(f\"{G.nodes[node]['name']} has a closeness centrality of {closeness:.4f}\")"
   ]
  },
  {
   "cell_type": "code",
   "execution_count": null,
   "metadata": {},
   "outputs": [],
   "source": [
    "## Eigenvector centrality\n",
    "eigenvector_centrality = nx.eigenvector_centrality(G)\n",
    "sorted_eigenvector_centrality = sorted(eigenvector_centrality.items(), key=lambda x: x[1], reverse=True)\n",
    "top_5_eigenvector = sorted_eigenvector_centrality[:5]\n",
    "for node, eigenvector in top_5_eigenvector:\n",
    "    print(f\"{G.nodes[node]['name']} has an eigenvector centrality of {eigenvector:.4f}\")"
   ]
  },
  {
   "cell_type": "code",
   "execution_count": null,
   "metadata": {},
   "outputs": [],
   "source": [
    "## plot the closeness centrality and eigenvector centrality\n",
    "plt.figure(figsize=(10, 5))\n",
    "plt.bar([G.nodes[k][\"name\"] for k, v in sorted_closeness_centrality[:10]],\n",
    "        [v for k, v in sorted_closeness_centrality[:10]])\n",
    "plt.xticks(rotation=90)\n",
    "plt.ylabel('Closeness Centrality')\n",
    "plt.title('Top 10 airports with the highest closeness centrality')\n",
    "#plt.savefig('images/top10_airports_closeness.png', dpi=300, bbox_inches='tight')\n",
    "plt.show()\n",
    "\n",
    "plt.figure(figsize=(10, 5))\n",
    "plt.bar([G.nodes[k][\"name\"] for k, v in sorted_eigenvector_centrality[:10]],\n",
    "        [v for k, v in sorted_eigenvector_centrality[:10]])\n",
    "plt.xticks(rotation=90)\n",
    "plt.ylabel('Eigenvector Centrality')\n",
    "plt.title('Top 10 airports with the highest eigenvector centrality')\n",
    "#plt.savefig('images/top10_airports_eigenvector.png', dpi=300, bbox_inches='tight')\n",
    "plt.show()"
   ]
  },
  {
   "cell_type": "code",
   "execution_count": null,
   "metadata": {},
   "outputs": [],
   "source": [
    "## Create scatter plot of closeness centrality vs eigenvector centrality\n",
    "plt.figure(figsize=(10, 5))\n",
    "plt.scatter([v for k, v in sorted_closeness_centrality], [v for k, v in sorted_eigenvector_centrality])\n",
    "plt.xlabel('Closeness Centrality')\n",
    "plt.ylabel('Eigenvector Centrality')\n",
    "plt.title('Closeness Centrality vs Eigenvector Centrality')\n",
    "#plt.savefig('images/closeness_vs_eigenvector.png', dpi=300, bbox_inches='tight')\n",
    "plt.show()\n",
    "\n",
    "## "
   ]
  }
 ],
 "metadata": {
  "language_info": {
   "name": "python"
  }
 },
 "nbformat": 4,
 "nbformat_minor": 2
}
